{
  "cells": [
    {
      "cell_type": "markdown",
      "metadata": {
        "colab_type": "text",
        "id": "view-in-github"
      },
      "source": [
        "<a href=\"https://colab.research.google.com/github/MammadTavakoli/GorEndir/blob/main/examples/gorendir_colab_demo.ipynb\" target=\"_parent\"><img src=\"https://colab.research.google.com/assets/colab-badge.svg\" alt=\"Open In Colab\"/></a>"
      ]
    },
    {
      "cell_type": "code",
      "execution_count": null,
      "metadata": {
        "id": "tjfrzZW43NSj"
      },
      "outputs": [],
      "source": [
        "# Install GörEndir\n",
        "!pip install -q --upgrade --force-reinstall git+https://github.com/MammadTavakoli/gorendir.git"
      ]
    },
    {
      "cell_type": "code",
      "execution_count": null,
      "metadata": {
        "id": "Ji1jRWVvxQK7"
      },
      "outputs": [],
      "source": [
        "# Mount Google Drive\n",
        "from google.colab import drive\n",
        "drive.mount('/content/drive')"
      ]
    },
    {
      "cell_type": "code",
      "execution_count": null,
      "metadata": {
        "id": "2BPQP6Ydyc11"
      },
      "outputs": [],
      "source": [
        "# Define your video URLs (can be a single video URL, a list of URLs, or a playlist dictionary)\n",
        "# video_urls = [\n",
        "#     # Corey Schafer's Python Tutorials Playlist\n",
        "#     \"https://www.youtube.com/playlist?list=PL-osiE80TeTt2d9bfVyTiXJA-UTHn6WwU\",\n",
        "\n",
        "#     # Real Python Tutorials Playlist\n",
        "#     \"https://www.youtube.com/playlist?list=PL-osiE80TeTt2d9bfVyTiXJA-UTHn6WwU\",\n",
        "\n",
        "#     # Tech With Tim - Python Programming (start downloading from the 3rd video)\n",
        "#     {\"https://www.youtube.com/playlist?list=PLzMcBGfZo4-lSq2IDrA6vpZEV92AmQfJK\": 3},\n",
        "\n",
        "#     # FreeCodeCamp Python Playlist\n",
        "#     \"https://www.youtube.com/watch?v=rfscVS0vtbw\",\n",
        "\n",
        "#     # Çok Güzel Hareketler Video\n",
        "#     \"https://www.youtube.com/watch?v=E9rMSlMxqIk\"\n",
        "# ]\n",
        "video_urls = [\n",
        "\n",
        "\n",
        "]"
      ]
    },
    {
      "cell_type": "code",
      "execution_count": null,
      "metadata": {
        "id": "xHmrq6Pg44jM"
      },
      "outputs": [],
      "source": [
        "# Define the save location (Google Drive or local Colab storage)\n",
        "save_directory = \"/content/drive/MyDrive/YouTube/\""
      ]
    },
    {
      "cell_type": "code",
      "execution_count": null,
      "metadata": {
        "id": "NOQMpxaV46s_"
      },
      "outputs": [],
      "source": [
        "# Import GörEndir\n",
        "from gorendir.downloader import YouTubeDownloader\n",
        "\n",
        "# Initialize the YouTubeDownloader\n",
        "downloader = YouTubeDownloader(save_directory=save_directory, max_resolution=1080 , subtitle_languages=[\"az\", \"fa\", \"en\", \"tr\"])\n",
        "\n",
        "# Download all videos in the list\n",
        "downloader.download_video(video_urls, reverse_download=False ,playlist_start=1, skip_download=False, force_download=False)"
      ]
    }
  ],
  "metadata": {
    "colab": {
      "authorship_tag": "ABX9TyOUi+qzC6/qsr8x84KwqSeA",
      "include_colab_link": true,
      "provenance": []
    },
    "kernelspec": {
      "display_name": "Python 3",
      "name": "python3"
    },
    "language_info": {
      "name": "python"
    }
  },
  "nbformat": 4,
  "nbformat_minor": 0
}
