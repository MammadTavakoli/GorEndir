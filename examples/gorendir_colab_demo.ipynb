
{
 "cells": [
  {
   "cell_type": "code",
   "execution_count": null,
   "metadata": {},
   "outputs": [],
   "source": [
    "# Install GörEndir\n",
    "!pip install -q --upgrade --force-reinstall git+https://github.com/MammadTavakoli/gorendir.git"
   ]
  },
  {
   "cell_type": "code",
   "execution_count": null,
   "metadata": {},
   "outputs": [],
   "source": [
    "# Mount Google Drive\n",
    "from google.colab import drive\n",
    "drive.mount('/content/drive')"
   ]
  },
  {
   "cell_type": "code",
   "execution_count": null,
   "metadata": {},
   "outputs": [],
   "source": [
    "# Define your video URLs (can be a single video URL, a list of URLs, or a playlist dictionary)\n",
    "# video_urls = [\n",
    "#     # Corey Schafer's Python Tutorials Playlist\n",
    "#     \"https://www.youtube.com/playlist?list=PL-osiE80TeTt2d9bfVyTiXJA-UTHn6WwU\",\n",
    "\n",
    "#     # Real Python Tutorials Playlist\n",
    "#     \"https://www.youtube.com/playlist?list=PL-osiE80TeTt2d9bfVyTiXJA-UTHn6WwU\",\n",
    "\n",
    "#     # Tech With Tim - Python Programming (start downloading from the 3rd video)\n",
    "#     {\"https://www.youtube.com/playlist?list=PLzMcBGfZo4-lSq2IDrA6vpZEV92AmQfJK\": 3},\n",
    "\n",
    "#     # FreeCodeCamp Python Playlist\n",
    "#     \"https://www.youtube.com/watch?v=rfscVS0vtbw\",\n",
    "\n",
    "#     # Çok Güzel Hareketler Video\n",
    "#     \"https://www.youtube.com/watch?v=E9rMSlMxqIk\"\n",
    "# ]\n",
    "video_urls = [   \n",
    "     \n",
    "\n",
    "]"
   ]
  },
  {
   "cell_type": "code",
   "execution_count": null,
   "metadata": {},
   "outputs": [],
   "source": [
    "# Define the save location (Google Drive or local Colab storage)\n",
    "save_directory = \"/content/drive/MyDrive/YouTube/Download_video\"  "
   ]
  },
  {
   "cell_type": "code",
   "execution_count": null,
   "metadata": {},
   "outputs": [],
   "source": [
    "# Import GörEndir\n",
    "from gorendir.downloader import YouTubeDownloader\n",
    "\n",
    "# Initialize the YouTubeDownloader\n",
    "downloader = YouTubeDownloader(save_directory=save_directory, max_resolution=1080 , subtitle_languages=[\"az\", \"fa\", \"en\", \"tr\"])\n",
    "\n",
    "# Download all videos in the list\n",
    "downloader.download_video(video_urls, reverse_download=False ,playlist_start=1, skip_download=False, force_download=False)"
   ]
  }
 ],
 "metadata": {
  "kernelspec": {
   "display_name": ".venv",
   "language": "python",
   "name": "python3"
  },
  "language_info": {
   "name": "python",
   "version": "3.13.0"
  }
 },
 "nbformat": 4,
 "nbformat_minor": 2
}
